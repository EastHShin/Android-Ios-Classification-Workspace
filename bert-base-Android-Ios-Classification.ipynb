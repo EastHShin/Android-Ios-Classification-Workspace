{
 "cells": [
  {
   "cell_type": "markdown",
   "id": "c8cefab8",
   "metadata": {},
   "source": [
    "## Android-Ios Question Classifier\n",
    "\n",
    "---\n",
    "\n",
    "The Android-Ios Question Classification model takes questions as input.\n",
    "It's a model that classify whether the question is about Android or Ios.\n",
    "<br>\n",
    "\n",
    "- This model is fine-tuned with bert-base-cased model\n",
    "- Learning is done on Ainize Workspace\n",
    "- If you want to look up Demo web using this model, go to Ainize Endpoint\n",
    "\n",
    "---\n",
    "\n",
    "**Pretrained model**: [bert-base-cased](https://huggingface.co/bert-base-cased)\n",
    "<br>\n",
    "**Dataset**: [Kaggle](https://www.kaggle.com/xhlulu/question-classification-android-or-ios)\n",
    "<br>\n",
    "**Ainize Endpoint**: [Endpoint](https://main-android-ios-classification-east-h-shin.endpoint.ainize.ai/)\n",
    "<br>"
   ]
  },
  {
   "cell_type": "code",
   "execution_count": null,
   "id": "b52882b0",
   "metadata": {},
   "outputs": [],
   "source": [
    "#!pip install -U transformers datasets scipy scikit-learn"
   ]
  },
  {
   "cell_type": "code",
   "execution_count": null,
   "id": "03b161d6",
   "metadata": {},
   "outputs": [],
   "source": [
    "import torch\n",
    "from torch.utils.data import Dataset\n",
    "import numpy as np\n",
    "import pandas as pd\n",
    "from transformers import  TrainingArguments, Trainer\n",
    "from transformers import BertTokenizer, BertForSequenceClassification\n",
    "from sklearn.preprocessing import LabelEncoder\n",
    "from torch import cuda\n",
    "from sklearn.metrics import accuracy_score"
   ]
  },
  {
   "cell_type": "code",
   "execution_count": null,
   "id": "3312475c",
   "metadata": {},
   "outputs": [],
   "source": [
    "device = 'cuda:0' if cuda.is_available() else 'cpu'"
   ]
  },
  {
   "cell_type": "code",
   "execution_count": null,
   "id": "77fd87df",
   "metadata": {},
   "outputs": [],
   "source": [
    "train_df = pd.read_csv('./train.csv')\n",
    "test_df = pd.read_csv('./test.csv')"
   ]
  },
  {
   "cell_type": "code",
   "execution_count": null,
   "id": "723fcbe6",
   "metadata": {},
   "outputs": [],
   "source": [
    "data = train_df[[\"Body\", \"Label\"]]"
   ]
  },
  {
   "cell_type": "code",
   "execution_count": null,
   "id": "d268c800",
   "metadata": {},
   "outputs": [],
   "source": [
    "data"
   ]
  },
  {
   "cell_type": "code",
   "execution_count": null,
   "id": "e67e5fc8",
   "metadata": {},
   "outputs": [],
   "source": [
    "data_dev = test_df[[\"Body\", \"Label\"]]"
   ]
  },
  {
   "cell_type": "code",
   "execution_count": null,
   "id": "961e0021",
   "metadata": {},
   "outputs": [],
   "source": [
    "tokenizer = BertTokenizer.from_pretrained(\"bert-base-cased\", do_lower_case=False)\n",
    "tokenizer.save_pretrained(\".\")"
   ]
  },
  {
   "cell_type": "code",
   "execution_count": null,
   "id": "d48a36bd",
   "metadata": {},
   "outputs": [],
   "source": [
    "label_encoder = LabelEncoder()\n",
    "data[\"Label\"] = label_encoder.fit_transform(data[\"Label\"])\n",
    "data_dev[\"Label\"] = label_encoder.fit_transform(data_dev[\"Label\"])"
   ]
  },
  {
   "cell_type": "code",
   "execution_count": null,
   "id": "fd24eb40",
   "metadata": {},
   "outputs": [],
   "source": [
    "mapping = dict(zip(range(len(label_encoder.classes_)), label_encoder.classes_))"
   ]
  },
  {
   "cell_type": "code",
   "execution_count": null,
   "id": "cc33fffa",
   "metadata": {},
   "outputs": [],
   "source": [
    "mapping"
   ]
  },
  {
   "cell_type": "code",
   "execution_count": null,
   "id": "a477e996",
   "metadata": {},
   "outputs": [],
   "source": [
    "num_labels=2\n",
    "max_len = 512\n",
    "batch_size = 8\n",
    "num_epochs = 5\n",
    "log_interval = 200\n",
    "learning_rate =  5e-5"
   ]
  },
  {
   "cell_type": "code",
   "execution_count": null,
   "id": "35db2f85",
   "metadata": {
    "scrolled": true
   },
   "outputs": [],
   "source": [
    "X_train = list(data[\"Body\"])\n",
    "Y_train = list(data[\"Label\"])\n",
    "X_val = list(data_dev[\"Body\"])\n",
    "y_val = list(data_dev[\"Label\"])\n",
    "X_train_tokenized = tokenizer(X_train, padding=True, truncation = True, max_length =max_len)\n",
    "X_val_tokenized = tokenizer(X_val, padding=True, truncation = True, max_length =max_len)"
   ]
  },
  {
   "cell_type": "code",
   "execution_count": null,
   "id": "c4cca9d0",
   "metadata": {},
   "outputs": [],
   "source": [
    "class Dataset(torch.utils.data.Dataset):\n",
    "    def __init__(self, encodings, labels=None):\n",
    "        self.encodings = encodings\n",
    "        self.labels = labels\n",
    "    \n",
    "    def __getitem__(self, idx):\n",
    "        item = {key: torch.tensor(val[idx]) for key, val in self.encodings.items()}\n",
    "        item[\"labels\"] = torch.tensor([self.labels[idx]])\n",
    "        return item\n",
    "    \n",
    "    def __len__(self):\n",
    "        return len(self.labels)"
   ]
  },
  {
   "cell_type": "code",
   "execution_count": null,
   "id": "1dc279ff",
   "metadata": {},
   "outputs": [],
   "source": [
    "train_dataset = Dataset(X_train_tokenized, Y_train)\n",
    "val_dataset = Dataset(X_val_tokenized, y_val)"
   ]
  },
  {
   "cell_type": "code",
   "execution_count": null,
   "id": "58e5aac2",
   "metadata": {},
   "outputs": [],
   "source": [
    "model = BertForSequenceClassification.from_pretrained('bert-base-cased',num_labels=num_labels).to(\"cuda\")"
   ]
  },
  {
   "cell_type": "code",
   "execution_count": null,
   "id": "fd3ddea4",
   "metadata": {},
   "outputs": [],
   "source": [
    "def compute_metrics(pred):\n",
    "    labels = pred.label_ids\n",
    "    preds = pred.predictions.argmax(-1)\n",
    "    acc = accuracy_score(labels, preds)\n",
    "    return {\n",
    "        'accuracy': acc,\n",
    "  }"
   ]
  },
  {
   "cell_type": "code",
   "execution_count": null,
   "id": "6465537c",
   "metadata": {},
   "outputs": [],
   "source": [
    "args = TrainingArguments(\n",
    "    per_device_train_batch_size=batch_size,\n",
    "    per_device_eval_batch_size=batch_size,\n",
    "    learning_rate =  learning_rate ,\n",
    "    num_train_epochs=num_epochs,\n",
    "    logging_steps= log_interval ,\n",
    "    output_dir=\"output\",\n",
    "    warmup_steps=500,\n",
    "    weight_decay=0.01,\n",
    "    logging_dir='log',\n",
    "    load_best_model_at_end=True,\n",
    "    evaluation_strategy=\"steps\"\n",
    ")"
   ]
  },
  {
   "cell_type": "code",
   "execution_count": null,
   "id": "1e2a2196",
   "metadata": {},
   "outputs": [],
   "source": [
    "model = model.to(device)"
   ]
  },
  {
   "cell_type": "code",
   "execution_count": null,
   "id": "8da25bf4",
   "metadata": {},
   "outputs": [],
   "source": [
    "trainer = Trainer(\n",
    "    model=model,\n",
    "    args=args,\n",
    "    train_dataset=train_dataset,\n",
    "    eval_dataset=val_dataset,\n",
    "    compute_metrics=compute_metrics\n",
    ")"
   ]
  },
  {
   "cell_type": "code",
   "execution_count": null,
   "id": "291e0fe8",
   "metadata": {
    "scrolled": false
   },
   "outputs": [],
   "source": [
    "trainer.train()"
   ]
  },
  {
   "cell_type": "code",
   "execution_count": null,
   "id": "c60af00c",
   "metadata": {},
   "outputs": [],
   "source": [
    "trainer.evaluate()"
   ]
  },
  {
   "cell_type": "code",
   "execution_count": null,
   "id": "1413d57c",
   "metadata": {},
   "outputs": [],
   "source": [
    "model_path = \"Android-Ios-Classfication-bert-base\"\n",
    "model.save_pretrained(model_path)\n",
    "tokenizer.save_pretrained(model_path)"
   ]
  },
  {
   "cell_type": "code",
   "execution_count": null,
   "id": "a937eaf0",
   "metadata": {},
   "outputs": [],
   "source": [
    "def get_prediction(text):\n",
    "    inputs = tokenizer(text, padding=True, truncation=True, max_length=max_len, return_tensors=\"pt\").to(\"cuda\")\n",
    "    outputs = model(**inputs)\n",
    "    probs = outputs[0].softmax(1)\n",
    "    return mapping[probs.argmax().item()]"
   ]
  },
  {
   "cell_type": "code",
   "execution_count": null,
   "id": "8a5ee906",
   "metadata": {},
   "outputs": [],
   "source": [
    "text = \"\"\"\n",
    "    I bought the Goodnote\n",
    "\"\"\""
   ]
  },
  {
   "cell_type": "code",
   "execution_count": null,
   "id": "b5adb7cc",
   "metadata": {},
   "outputs": [],
   "source": [
    "print(get_prediction(text))"
   ]
  },
  {
   "cell_type": "code",
   "execution_count": null,
   "id": "2e36e327",
   "metadata": {},
   "outputs": [],
   "source": []
  }
 ],
 "metadata": {
  "kernelspec": {
   "display_name": "Python 3",
   "language": "python",
   "name": "python3"
  },
  "language_info": {
   "codemirror_mode": {
    "name": "ipython",
    "version": 3
   },
   "file_extension": ".py",
   "mimetype": "text/x-python",
   "name": "python",
   "nbconvert_exporter": "python",
   "pygments_lexer": "ipython3",
   "version": "3.7.9"
  }
 },
 "nbformat": 4,
 "nbformat_minor": 5
}
